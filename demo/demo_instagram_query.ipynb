{
 "cells": [
  {
   "cell_type": "markdown",
   "metadata": {},
   "source": [
    "## Install sqlite\n",
    "download and install the sqlite from https://www.sqlite.org/download.html\n",
    "\n",
    "or if you are using conda env run the command: conda install -c anaconda sqlite\n",
    "\n",
    "## <font color='blue'> Note </fong>:\n",
    "#### create new db naming convention: < project_s +  summary + v_version + timestamp >\n",
    "    \n",
    "\n",
    "e.g.\n",
    "'project_s_sample_v0.0_20210221'"
   ]
  },
  {
   "cell_type": "code",
   "execution_count": 1,
   "metadata": {},
   "outputs": [],
   "source": [
    "import pandas as pd\n",
    "import numpy as np\n",
    "import sqlite3\n",
    "from pathlib import Path\n",
    "from sqlalchemy import create_engine\n",
    "import os\n",
    "import sys\n",
    "sys.path.insert(1,'../utils/')\n",
    "from dtypes_utils import *"
   ]
  },
  {
   "cell_type": "code",
   "execution_count": 2,
   "metadata": {},
   "outputs": [],
   "source": [
    "db_dir = '../db_creation/'\n",
    "db_path = os.path.join(db_dir, 'project_s_instagram_v1_20210314.db') \n",
    "\n",
    "conn = sqlite3.connect(db_path) #, detect_types=sqlite3.PARSE_DECLTYPES)\n",
    "c = conn.cursor()"
   ]
  },
  {
   "cell_type": "code",
   "execution_count": 3,
   "metadata": {},
   "outputs": [
    {
     "data": {
      "text/html": [
       "<div>\n",
       "<style scoped>\n",
       "    .dataframe tbody tr th:only-of-type {\n",
       "        vertical-align: middle;\n",
       "    }\n",
       "\n",
       "    .dataframe tbody tr th {\n",
       "        vertical-align: top;\n",
       "    }\n",
       "\n",
       "    .dataframe thead th {\n",
       "        text-align: right;\n",
       "    }\n",
       "</style>\n",
       "<table border=\"1\" class=\"dataframe\">\n",
       "  <thead>\n",
       "    <tr style=\"text-align: right;\">\n",
       "      <th></th>\n",
       "      <th>name</th>\n",
       "    </tr>\n",
       "  </thead>\n",
       "  <tbody>\n",
       "    <tr>\n",
       "      <th>0</th>\n",
       "      <td>instagram_netflix_static</td>\n",
       "    </tr>\n",
       "    <tr>\n",
       "      <th>1</th>\n",
       "      <td>instagram_netflix_tracking</td>\n",
       "    </tr>\n",
       "    <tr>\n",
       "      <th>2</th>\n",
       "      <td>instagram_disney_static</td>\n",
       "    </tr>\n",
       "    <tr>\n",
       "      <th>3</th>\n",
       "      <td>instagram_disney_tracking</td>\n",
       "    </tr>\n",
       "    <tr>\n",
       "      <th>4</th>\n",
       "      <td>instagram_hulu_static</td>\n",
       "    </tr>\n",
       "    <tr>\n",
       "      <th>5</th>\n",
       "      <td>instagram_hulu_tracking</td>\n",
       "    </tr>\n",
       "    <tr>\n",
       "      <th>6</th>\n",
       "      <td>instagram_hbomax_static</td>\n",
       "    </tr>\n",
       "    <tr>\n",
       "      <th>7</th>\n",
       "      <td>instagram_hbomax_tracking</td>\n",
       "    </tr>\n",
       "    <tr>\n",
       "      <th>8</th>\n",
       "      <td>instagram_platform_page_info</td>\n",
       "    </tr>\n",
       "  </tbody>\n",
       "</table>\n",
       "</div>"
      ],
      "text/plain": [
       "                           name\n",
       "0      instagram_netflix_static\n",
       "1    instagram_netflix_tracking\n",
       "2       instagram_disney_static\n",
       "3     instagram_disney_tracking\n",
       "4         instagram_hulu_static\n",
       "5       instagram_hulu_tracking\n",
       "6       instagram_hbomax_static\n",
       "7     instagram_hbomax_tracking\n",
       "8  instagram_platform_page_info"
      ]
     },
     "execution_count": 3,
     "metadata": {},
     "output_type": "execute_result"
    }
   ],
   "source": [
    "## check tables in db\n",
    "check_table_q = \"\"\"\n",
    "   SELECT name FROM sqlite_master WHERE type='table'\n",
    "    \"\"\"\n",
    "check_table_df = pd.read_sql(check_table_q, conn)\n",
    "check_table_df"
   ]
  },
  {
   "cell_type": "markdown",
   "metadata": {},
   "source": [
    "### wrapper function\n",
    "wrapper function to standardize the dtypes"
   ]
  },
  {
   "cell_type": "code",
   "execution_count": 4,
   "metadata": {},
   "outputs": [],
   "source": [
    "def apply_dtypes_wrapper(df, dtype_df):\n",
    "    \n",
    "    for col in df.columns:\n",
    "        col_type = dtype_df.loc[dtype_df['name']==col, 'type'].values[0]\n",
    "        \n",
    "        if col_type == 'int':\n",
    "            df[col] = df[col].apply(lambda x: convert_to_int(x))\n",
    "            \n",
    "        elif col_type == 'float':\n",
    "            df[col] = df[col].apply(lambda x: convert_to_float(x))\n",
    "            \n",
    "        elif col_type == 'varchar' or col_type == 'varchar(32)' or col_type == 'text':\n",
    "            df[col] = df[col].apply(lambda x: convert_to_string(x))\n",
    "            \n",
    "        elif col_type == 'BOOLEAN':\n",
    "            df[col] = df[col].apply(lambda x: convert_to_boolean(x))\n",
    "            \n",
    "        elif col_type == 'timestamp':\n",
    "            df[col] = df[col].apply(lambda x: convert_to_timestamp(x))\n",
    "\n",
    "    return df"
   ]
  },
  {
   "cell_type": "markdown",
   "metadata": {},
   "source": [
    "## <font color='blue'>Query\n",
    "\n",
    "### <font color='green'> IMDB Netflix data"
   ]
  },
  {
   "cell_type": "code",
   "execution_count": 5,
   "metadata": {
    "scrolled": true
   },
   "outputs": [],
   "source": [
    "#################      querying from the db    ################# \n",
    "q = \"\"\"\n",
    "    SELECT * FROM instagram_netflix_tracking\n",
    "    \"\"\"\n",
    "netflix_tracking = pd.read_sql(q, conn)\n",
    "netflix_tracking.head(2)\n",
    "\n",
    "#################    get dtypes from the sql table  ################# \n",
    "tracking_types_q = \"\"\"\n",
    "          PRAGMA table_info(instagram_netflix_tracking)\n",
    "          \"\"\"\n",
    "netflix_tracking_dtypes = pd.read_sql(tracking_types_q, conn)\n",
    "\n",
    "#################   apply wrapper function     ################# \n",
    "netflix_tracking = apply_dtypes_wrapper(netflix_tracking, netflix_tracking_dtypes)"
   ]
  },
  {
   "cell_type": "code",
   "execution_count": 6,
   "metadata": {},
   "outputs": [
    {
     "data": {
      "text/html": [
       "<div>\n",
       "<style scoped>\n",
       "    .dataframe tbody tr th:only-of-type {\n",
       "        vertical-align: middle;\n",
       "    }\n",
       "\n",
       "    .dataframe tbody tr th {\n",
       "        vertical-align: top;\n",
       "    }\n",
       "\n",
       "    .dataframe thead th {\n",
       "        text-align: right;\n",
       "    }\n",
       "</style>\n",
       "<table border=\"1\" class=\"dataframe\">\n",
       "  <thead>\n",
       "    <tr style=\"text-align: right;\">\n",
       "      <th></th>\n",
       "      <th>fetch_date</th>\n",
       "      <th>short_codes</th>\n",
       "      <th>number_of_likes</th>\n",
       "      <th>number_of_video_views</th>\n",
       "      <th>number_of_comments</th>\n",
       "    </tr>\n",
       "  </thead>\n",
       "  <tbody>\n",
       "    <tr>\n",
       "      <th>0</th>\n",
       "      <td>2021-03-06</td>\n",
       "      <td>CL4c2Fjl0tq</td>\n",
       "      <td>768179</td>\n",
       "      <td>NaN</td>\n",
       "      <td>8548</td>\n",
       "    </tr>\n",
       "  </tbody>\n",
       "</table>\n",
       "</div>"
      ],
      "text/plain": [
       "  fetch_date  short_codes  number_of_likes  number_of_video_views  \\\n",
       "0 2021-03-06  CL4c2Fjl0tq           768179                    NaN   \n",
       "\n",
       "   number_of_comments  \n",
       "0                8548  "
      ]
     },
     "execution_count": 6,
     "metadata": {},
     "output_type": "execute_result"
    }
   ],
   "source": [
    "netflix_tracking.head(1)"
   ]
  },
  {
   "cell_type": "code",
   "execution_count": 7,
   "metadata": {},
   "outputs": [
    {
     "data": {
      "text/plain": [
       "fetch_date               datetime64[ns]\n",
       "short_codes                      object\n",
       "number_of_likes                   int64\n",
       "number_of_video_views           float64\n",
       "number_of_comments                int64\n",
       "dtype: object"
      ]
     },
     "execution_count": 7,
     "metadata": {},
     "output_type": "execute_result"
    }
   ],
   "source": [
    "netflix_tracking.dtypes"
   ]
  }
 ],
 "metadata": {
  "kernelspec": {
   "display_name": "Python 3",
   "language": "python",
   "name": "python3"
  },
  "language_info": {
   "codemirror_mode": {
    "name": "ipython",
    "version": 3
   },
   "file_extension": ".py",
   "mimetype": "text/x-python",
   "name": "python",
   "nbconvert_exporter": "python",
   "pygments_lexer": "ipython3",
   "version": "3.6.8"
  }
 },
 "nbformat": 4,
 "nbformat_minor": 2
}
