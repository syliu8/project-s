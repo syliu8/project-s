{
 "cells": [
  {
   "cell_type": "markdown",
   "metadata": {},
   "source": [
    "## Install sqlite\n",
    "download and install the sqlite from https://www.sqlite.org/download.html\n",
    "\n",
    "or if you are using conda env run the command: conda install -c anaconda sqlite\n",
    "\n",
    "## <font color='blue'> Note </fong>:\n",
    "#### create new db naming convention: < project_s +  summary + v_version + timestamp >\n",
    "    \n",
    "\n",
    "e.g.\n",
    "'project_s_sample_v0.0_20210221'"
   ]
  },
  {
   "cell_type": "code",
   "execution_count": 1,
   "metadata": {},
   "outputs": [],
   "source": [
    "import pandas as pd\n",
    "import numpy as np\n",
    "import sqlite3\n",
    "from pathlib import Path\n",
    "from sqlalchemy import create_engine\n",
    "\n",
    "import sys\n",
    "sys.path.insert(1,'../utils/')\n",
    "from dtypes_utils import *"
   ]
  },
  {
   "cell_type": "code",
   "execution_count": 2,
   "metadata": {},
   "outputs": [],
   "source": [
    "import sys\n",
    "sys.path.insert(1,'../utils/')\n",
    "db_name = 'project_s_instagram_v1_20210314.db'\n",
    "table_name_tweet = 'twitter_netflix'\n",
    "table_name_km = 'kaggle_movies'\n",
    "table_name_ktv = 'kaggle_tvshows'\n",
    "\n",
    "conn = sqlite3.connect(db_name) #, detect_types=sqlite3.PARSE_DECLTYPES)\n",
    "c = conn.cursor()"
   ]
  },
  {
   "cell_type": "code",
   "execution_count": 3,
   "metadata": {},
   "outputs": [
    {
     "data": {
      "text/html": [
       "<div>\n",
       "<style scoped>\n",
       "    .dataframe tbody tr th:only-of-type {\n",
       "        vertical-align: middle;\n",
       "    }\n",
       "\n",
       "    .dataframe tbody tr th {\n",
       "        vertical-align: top;\n",
       "    }\n",
       "\n",
       "    .dataframe thead th {\n",
       "        text-align: right;\n",
       "    }\n",
       "</style>\n",
       "<table border=\"1\" class=\"dataframe\">\n",
       "  <thead>\n",
       "    <tr style=\"text-align: right;\">\n",
       "      <th></th>\n",
       "      <th>name</th>\n",
       "    </tr>\n",
       "  </thead>\n",
       "  <tbody>\n",
       "    <tr>\n",
       "      <th>0</th>\n",
       "      <td>twitter_netflix</td>\n",
       "    </tr>\n",
       "    <tr>\n",
       "      <th>1</th>\n",
       "      <td>kaggle_movies</td>\n",
       "    </tr>\n",
       "    <tr>\n",
       "      <th>2</th>\n",
       "      <td>kaggle_tvshows</td>\n",
       "    </tr>\n",
       "  </tbody>\n",
       "</table>\n",
       "</div>"
      ],
      "text/plain": [
       "              name\n",
       "0  twitter_netflix\n",
       "1    kaggle_movies\n",
       "2   kaggle_tvshows"
      ]
     },
     "execution_count": 3,
     "metadata": {},
     "output_type": "execute_result"
    }
   ],
   "source": [
    "## check tables in db\n",
    "check_table_q = \"\"\"\n",
    "   SELECT name FROM sqlite_master WHERE type='table'\n",
    "    \"\"\"\n",
    "check_table_df = pd.read_sql(check_table_q.format(table1 = table_name_tweet), conn)\n",
    "check_table_df"
   ]
  },
  {
   "cell_type": "markdown",
   "metadata": {},
   "source": [
    "### wrapper function\n",
    "wrapper function to standardize the dtypes"
   ]
  },
  {
   "cell_type": "code",
   "execution_count": 4,
   "metadata": {},
   "outputs": [],
   "source": [
    "def dtypes_wrapper(df, dtype_df):\n",
    "    \n",
    "    for col in df.columns:\n",
    "        col_type = dtype_df.loc[dtype_df['name']==col, 'type'].values[0]\n",
    "        \n",
    "        if col_type == 'int':\n",
    "            df[col] = df[col].apply(lambda x: convert_to_int(x))\n",
    "            \n",
    "        elif col_type == 'float':\n",
    "            df[col] = df[col].apply(lambda x: convert_to_float(x))\n",
    "            \n",
    "        elif col_type == 'varchar' or col_type == 'varchar(32)' or col_type == 'text':\n",
    "            df[col] = df[col].apply(lambda x: convert_to_string(x))\n",
    "            \n",
    "        elif col_type == 'BOOLEAN':\n",
    "            df[col] = df[col].apply(lambda x: convert_to_boolean(x))\n",
    "\n",
    "    return df"
   ]
  },
  {
   "cell_type": "markdown",
   "metadata": {},
   "source": [
    "## <font color='blue'>Query\n",
    "\n",
    "### <font color='green'> Tweet scripted data"
   ]
  },
  {
   "cell_type": "code",
   "execution_count": 5,
   "metadata": {},
   "outputs": [],
   "source": [
    "engine = create_engine('sqlite:////home/sushi/Documents/project-s-internal/demo/project_s_prototype_v0.1_20210228.db')\n",
    "\n",
    "tweet_q = '''\n",
    "select * from {table}\n",
    "'''\n",
    "\n",
    "## get dtypes               \n",
    "tweet_type_q = \"\"\"\n",
    "   PRAGMA table_info({table})\n",
    "    \"\"\"\n",
    "\n",
    "tweet_df= pd.read_sql(tweet_q.format(table = table_name_tweet), con=engine, parse_dates=['time_created'])\n",
    "tweet_type_df = pd.read_sql(tweet_type_q.format(table = table_name_tweet), con=engine)\n",
    "\n",
    "\n",
    "## apply wrapper function\n",
    "tweet_df = dtypes_wrapper(tweet_df, tweet_type_df)"
   ]
  },
  {
   "cell_type": "code",
   "execution_count": 6,
   "metadata": {},
   "outputs": [
    {
     "data": {
      "text/html": [
       "<div>\n",
       "<style scoped>\n",
       "    .dataframe tbody tr th:only-of-type {\n",
       "        vertical-align: middle;\n",
       "    }\n",
       "\n",
       "    .dataframe tbody tr th {\n",
       "        vertical-align: top;\n",
       "    }\n",
       "\n",
       "    .dataframe thead th {\n",
       "        text-align: right;\n",
       "    }\n",
       "</style>\n",
       "<table border=\"1\" class=\"dataframe\">\n",
       "  <thead>\n",
       "    <tr style=\"text-align: right;\">\n",
       "      <th></th>\n",
       "      <th>user_id</th>\n",
       "      <th>tweet_id</th>\n",
       "      <th>followers_count</th>\n",
       "      <th>statuses_count</th>\n",
       "      <th>reply_count</th>\n",
       "      <th>retweet_count</th>\n",
       "      <th>favorites_count</th>\n",
       "    </tr>\n",
       "  </thead>\n",
       "  <tbody>\n",
       "    <tr>\n",
       "      <th>count</th>\n",
       "      <td>7.124200e+04</td>\n",
       "      <td>7.124200e+04</td>\n",
       "      <td>7.124200e+04</td>\n",
       "      <td>7.124200e+04</td>\n",
       "      <td>71242.000000</td>\n",
       "      <td>0.0</td>\n",
       "      <td>5714.0</td>\n",
       "    </tr>\n",
       "    <tr>\n",
       "      <th>mean</th>\n",
       "      <td>5.966634e+17</td>\n",
       "      <td>1.365787e+18</td>\n",
       "      <td>6.082730e+03</td>\n",
       "      <td>3.485574e+04</td>\n",
       "      <td>0.248772</td>\n",
       "      <td>NaN</td>\n",
       "      <td>0.0</td>\n",
       "    </tr>\n",
       "    <tr>\n",
       "      <th>std</th>\n",
       "      <td>5.846309e+17</td>\n",
       "      <td>2.011390e+13</td>\n",
       "      <td>1.351814e+05</td>\n",
       "      <td>8.169296e+04</td>\n",
       "      <td>5.217174</td>\n",
       "      <td>NaN</td>\n",
       "      <td>0.0</td>\n",
       "    </tr>\n",
       "    <tr>\n",
       "      <th>min</th>\n",
       "      <td>6.825830e+05</td>\n",
       "      <td>1.365736e+18</td>\n",
       "      <td>0.000000e+00</td>\n",
       "      <td>1.000000e+00</td>\n",
       "      <td>0.000000</td>\n",
       "      <td>NaN</td>\n",
       "      <td>0.0</td>\n",
       "    </tr>\n",
       "    <tr>\n",
       "      <th>25%</th>\n",
       "      <td>5.247963e+08</td>\n",
       "      <td>1.365773e+18</td>\n",
       "      <td>8.900000e+01</td>\n",
       "      <td>2.283000e+03</td>\n",
       "      <td>0.000000</td>\n",
       "      <td>NaN</td>\n",
       "      <td>0.0</td>\n",
       "    </tr>\n",
       "    <tr>\n",
       "      <th>50%</th>\n",
       "      <td>7.605843e+17</td>\n",
       "      <td>1.365791e+18</td>\n",
       "      <td>3.210000e+02</td>\n",
       "      <td>9.766000e+03</td>\n",
       "      <td>0.000000</td>\n",
       "      <td>NaN</td>\n",
       "      <td>0.0</td>\n",
       "    </tr>\n",
       "    <tr>\n",
       "      <th>75%</th>\n",
       "      <td>1.209161e+18</td>\n",
       "      <td>1.365803e+18</td>\n",
       "      <td>1.033000e+03</td>\n",
       "      <td>3.234100e+04</td>\n",
       "      <td>0.000000</td>\n",
       "      <td>NaN</td>\n",
       "      <td>0.0</td>\n",
       "    </tr>\n",
       "    <tr>\n",
       "      <th>max</th>\n",
       "      <td>1.365814e+18</td>\n",
       "      <td>1.365814e+18</td>\n",
       "      <td>1.096955e+07</td>\n",
       "      <td>1.846996e+06</td>\n",
       "      <td>332.000000</td>\n",
       "      <td>NaN</td>\n",
       "      <td>0.0</td>\n",
       "    </tr>\n",
       "  </tbody>\n",
       "</table>\n",
       "</div>"
      ],
      "text/plain": [
       "            user_id      tweet_id  followers_count  statuses_count  \\\n",
       "count  7.124200e+04  7.124200e+04     7.124200e+04    7.124200e+04   \n",
       "mean   5.966634e+17  1.365787e+18     6.082730e+03    3.485574e+04   \n",
       "std    5.846309e+17  2.011390e+13     1.351814e+05    8.169296e+04   \n",
       "min    6.825830e+05  1.365736e+18     0.000000e+00    1.000000e+00   \n",
       "25%    5.247963e+08  1.365773e+18     8.900000e+01    2.283000e+03   \n",
       "50%    7.605843e+17  1.365791e+18     3.210000e+02    9.766000e+03   \n",
       "75%    1.209161e+18  1.365803e+18     1.033000e+03    3.234100e+04   \n",
       "max    1.365814e+18  1.365814e+18     1.096955e+07    1.846996e+06   \n",
       "\n",
       "        reply_count  retweet_count  favorites_count  \n",
       "count  71242.000000            0.0           5714.0  \n",
       "mean       0.248772            NaN              0.0  \n",
       "std        5.217174            NaN              0.0  \n",
       "min        0.000000            NaN              0.0  \n",
       "25%        0.000000            NaN              0.0  \n",
       "50%        0.000000            NaN              0.0  \n",
       "75%        0.000000            NaN              0.0  \n",
       "max      332.000000            NaN              0.0  "
      ]
     },
     "execution_count": 6,
     "metadata": {},
     "output_type": "execute_result"
    }
   ],
   "source": [
    "tweet_df.describe()"
   ]
  },
  {
   "cell_type": "code",
   "execution_count": 7,
   "metadata": {
    "scrolled": true
   },
   "outputs": [
    {
     "data": {
      "text/plain": [
       "user_id                        float64\n",
       "tweet_id                       float64\n",
       "time_created       datetime64[ns, UTC]\n",
       "reduced_text                    object\n",
       "full_text                       object\n",
       "location                        object\n",
       "followers_count                float64\n",
       "statuses_count                 float64\n",
       "verified                          bool\n",
       "description                     object\n",
       "reply_count                    float64\n",
       "retweet_count                  float64\n",
       "favorites_count                float64\n",
       "retweeted                       object\n",
       "hashtags                        object\n",
       "dtype: object"
      ]
     },
     "execution_count": 7,
     "metadata": {},
     "output_type": "execute_result"
    }
   ],
   "source": [
    "tweet_df.dtypes"
   ]
  },
  {
   "cell_type": "code",
   "execution_count": 8,
   "metadata": {},
   "outputs": [
    {
     "data": {
      "text/plain": [
       "(Timestamp('2021-02-27 18:49:11+0000', tz='UTC'),\n",
       " Timestamp('2021-02-27 23:59:59+0000', tz='UTC'))"
      ]
     },
     "execution_count": 8,
     "metadata": {},
     "output_type": "execute_result"
    }
   ],
   "source": [
    "tweet_df.time_created.min(), tweet_df.time_created.max()"
   ]
  }
 ],
 "metadata": {
  "kernelspec": {
   "display_name": "Python 3",
   "language": "python",
   "name": "python3"
  },
  "language_info": {
   "codemirror_mode": {
    "name": "ipython",
    "version": 3
   },
   "file_extension": ".py",
   "mimetype": "text/x-python",
   "name": "python",
   "nbconvert_exporter": "python",
   "pygments_lexer": "ipython3",
   "version": "3.6.8"
  }
 },
 "nbformat": 4,
 "nbformat_minor": 2
}
