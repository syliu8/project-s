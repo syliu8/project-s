{
 "cells": [
  {
   "cell_type": "markdown",
   "metadata": {},
   "source": [
    "## Install sqlite\n",
    "download and install the sqlite from https://www.sqlite.org/download.html\n",
    "\n",
    "or if you are using conda env run the command: conda install -c anaconda sqlite\n",
    "\n",
    "## Note:\n",
    "### db naming convention:\n",
    "#### project_s +  summary + v_version + timestamp\n",
    "    \n",
    "\n",
    "e.g.\n",
    "'project_s_sample_v0.0_20210221'"
   ]
  },
  {
   "cell_type": "code",
   "execution_count": 1,
   "metadata": {},
   "outputs": [],
   "source": [
    "import pandas as pd\n",
    "import sqlite3\n",
    "\n",
    "from pathlib import Path\n",
    "\n",
    "## TODO: change this dev db_name according to the naming convention described above\n",
    "db_name = 'project_s_sample_v0.0_20210221.db'\n",
    "table_name = 'twitter_netflix'\n",
    "Path(db_name).touch()"
   ]
  },
  {
   "cell_type": "code",
   "execution_count": 2,
   "metadata": {},
   "outputs": [
    {
     "data": {
      "text/html": [
       "<div>\n",
       "<style scoped>\n",
       "    .dataframe tbody tr th:only-of-type {\n",
       "        vertical-align: middle;\n",
       "    }\n",
       "\n",
       "    .dataframe tbody tr th {\n",
       "        vertical-align: top;\n",
       "    }\n",
       "\n",
       "    .dataframe thead th {\n",
       "        text-align: right;\n",
       "    }\n",
       "</style>\n",
       "<table border=\"1\" class=\"dataframe\">\n",
       "  <thead>\n",
       "    <tr style=\"text-align: right;\">\n",
       "      <th></th>\n",
       "      <th>full text</th>\n",
       "      <th>time created</th>\n",
       "      <th>user_id</th>\n",
       "      <th>tweet_id</th>\n",
       "      <th>country</th>\n",
       "      <th>locality</th>\n",
       "      <th>region</th>\n",
       "      <th>sub_region</th>\n",
       "    </tr>\n",
       "  </thead>\n",
       "  <tbody>\n",
       "    <tr>\n",
       "      <td>0</td>\n",
       "      <td>RT @coveygils: @netflix @lanacondor EXACTLY ht...</td>\n",
       "      <td>Sat Feb 13 23:59:58 +0000 2021</td>\n",
       "      <td>770073794056712193</td>\n",
       "      <td>1360740529286356993</td>\n",
       "      <td>NaN</td>\n",
       "      <td>NaN</td>\n",
       "      <td>NaN</td>\n",
       "      <td>NaN</td>\n",
       "    </tr>\n",
       "    <tr>\n",
       "      <td>1</td>\n",
       "      <td>RT @MichelleObama: Here's the trailer for #Waf...</td>\n",
       "      <td>Sat Feb 13 23:59:57 +0000 2021</td>\n",
       "      <td>101346144</td>\n",
       "      <td>1360740528472674309</td>\n",
       "      <td>NaN</td>\n",
       "      <td>NaN</td>\n",
       "      <td>NaN</td>\n",
       "      <td>NaN</td>\n",
       "    </tr>\n",
       "  </tbody>\n",
       "</table>\n",
       "</div>"
      ],
      "text/plain": [
       "                                           full text  \\\n",
       "0  RT @coveygils: @netflix @lanacondor EXACTLY ht...   \n",
       "1  RT @MichelleObama: Here's the trailer for #Waf...   \n",
       "\n",
       "                     time created             user_id             tweet_id  \\\n",
       "0  Sat Feb 13 23:59:58 +0000 2021  770073794056712193  1360740529286356993   \n",
       "1  Sat Feb 13 23:59:57 +0000 2021           101346144  1360740528472674309   \n",
       "\n",
       "   country  locality  region  sub_region  \n",
       "0      NaN       NaN     NaN         NaN  \n",
       "1      NaN       NaN     NaN         NaN  "
      ]
     },
     "execution_count": 2,
     "metadata": {},
     "output_type": "execute_result"
    }
   ],
   "source": [
    "twitter_netflix_df = pd.read_csv(\"../csv/twitter_netflix.csv\")\n",
    "twitter_netflix_df.head(2)"
   ]
  },
  {
   "cell_type": "markdown",
   "metadata": {},
   "source": [
    "### Create Sqlite table"
   ]
  },
  {
   "cell_type": "code",
   "execution_count": 3,
   "metadata": {},
   "outputs": [],
   "source": [
    "conn = sqlite3.connect(db_name)\n",
    "c = conn.cursor()"
   ]
  },
  {
   "cell_type": "code",
   "execution_count": 4,
   "metadata": {},
   "outputs": [
    {
     "data": {
      "text/plain": [
       "<sqlite3.Cursor at 0x7fa6fea41ab0>"
      ]
     },
     "execution_count": 4,
     "metadata": {},
     "output_type": "execute_result"
    }
   ],
   "source": [
    "# initialize schema\n",
    "c.execute('''CREATE TABLE IF NOT EXISTS {table_name}\n",
    "                         (user_id int, \n",
    "                          tweet_id int,\n",
    "                          time_created timestamp,\n",
    "                          reduced_text varchar,\n",
    "                          full_text text,\n",
    "                          country varchar(32),\n",
    "                          region varchar(32)\n",
    "                          )'''.format(table_name = table_name))"
   ]
  },
  {
   "cell_type": "code",
   "execution_count": 5,
   "metadata": {},
   "outputs": [
    {
     "data": {
      "text/html": [
       "<div>\n",
       "<style scoped>\n",
       "    .dataframe tbody tr th:only-of-type {\n",
       "        vertical-align: middle;\n",
       "    }\n",
       "\n",
       "    .dataframe tbody tr th {\n",
       "        vertical-align: top;\n",
       "    }\n",
       "\n",
       "    .dataframe thead th {\n",
       "        text-align: right;\n",
       "    }\n",
       "</style>\n",
       "<table border=\"1\" class=\"dataframe\">\n",
       "  <thead>\n",
       "    <tr style=\"text-align: right;\">\n",
       "      <th></th>\n",
       "      <th>user_id</th>\n",
       "      <th>tweet_id</th>\n",
       "      <th>time_created</th>\n",
       "      <th>reduced_text</th>\n",
       "      <th>full_text</th>\n",
       "      <th>country</th>\n",
       "      <th>region</th>\n",
       "    </tr>\n",
       "  </thead>\n",
       "  <tbody>\n",
       "    <tr>\n",
       "      <td>0</td>\n",
       "      <td>770073794056712193</td>\n",
       "      <td>1360740529286356993</td>\n",
       "      <td>Sat Feb 13 23:59:58 +0000 2021</td>\n",
       "      <td>RT @coveygils: @netflix @lanacondor EXACTLY ht...</td>\n",
       "      <td>RT @coveygils: @netflix @lanacondor EXACTLY ht...</td>\n",
       "      <td>NaN</td>\n",
       "      <td>NaN</td>\n",
       "    </tr>\n",
       "    <tr>\n",
       "      <td>1</td>\n",
       "      <td>101346144</td>\n",
       "      <td>1360740528472674309</td>\n",
       "      <td>Sat Feb 13 23:59:57 +0000 2021</td>\n",
       "      <td>RT @MichelleObama: Here's the trailer for #Waf...</td>\n",
       "      <td>RT @MichelleObama: Here's the trailer for #Waf...</td>\n",
       "      <td>NaN</td>\n",
       "      <td>NaN</td>\n",
       "    </tr>\n",
       "  </tbody>\n",
       "</table>\n",
       "</div>"
      ],
      "text/plain": [
       "              user_id             tweet_id                    time_created  \\\n",
       "0  770073794056712193  1360740529286356993  Sat Feb 13 23:59:58 +0000 2021   \n",
       "1           101346144  1360740528472674309  Sat Feb 13 23:59:57 +0000 2021   \n",
       "\n",
       "                                        reduced_text  \\\n",
       "0  RT @coveygils: @netflix @lanacondor EXACTLY ht...   \n",
       "1  RT @MichelleObama: Here's the trailer for #Waf...   \n",
       "\n",
       "                                           full_text  country  region  \n",
       "0  RT @coveygils: @netflix @lanacondor EXACTLY ht...      NaN     NaN  \n",
       "1  RT @MichelleObama: Here's the trailer for #Waf...      NaN     NaN  "
      ]
     },
     "execution_count": 5,
     "metadata": {},
     "output_type": "execute_result"
    }
   ],
   "source": [
    "# preprocess df\n",
    "final_columns = ['user_id', 'tweet_id', 'time_created',\\\n",
    "                'reduced_text', 'full_text', 'country', 'region']\n",
    "twitter_netflix_df.rename(columns={'full text':'full_text',\n",
    "                                   'time created':'time_created'}, inplace=True)\n",
    "twitter_netflix_df['reduced_text'] = twitter_netflix_df['full_text'].apply(lambda x: x[:255])\n",
    "twitter_netflix_df = twitter_netflix_df[final_columns]\n",
    "twitter_netflix_df.head(2)"
   ]
  },
  {
   "cell_type": "code",
   "execution_count": 6,
   "metadata": {},
   "outputs": [],
   "source": [
    "# convert csv to table\n",
    "twitter_netflix_df.to_sql('twitter_netflix', \n",
    "                          conn, \n",
    "                          if_exists='append',\n",
    "                          index=False)"
   ]
  },
  {
   "cell_type": "markdown",
   "metadata": {},
   "source": [
    "### Query data from sqlite table"
   ]
  },
  {
   "cell_type": "code",
   "execution_count": 7,
   "metadata": {},
   "outputs": [],
   "source": [
    "q = \"\"\"\n",
    "    SELECT * FROM {table_name}\n",
    "    \"\"\"\n",
    "sample_df = pd.read_sql(q.format(table_name = table_name), conn)"
   ]
  },
  {
   "cell_type": "code",
   "execution_count": 8,
   "metadata": {},
   "outputs": [
    {
     "data": {
      "text/html": [
       "<div>\n",
       "<style scoped>\n",
       "    .dataframe tbody tr th:only-of-type {\n",
       "        vertical-align: middle;\n",
       "    }\n",
       "\n",
       "    .dataframe tbody tr th {\n",
       "        vertical-align: top;\n",
       "    }\n",
       "\n",
       "    .dataframe thead th {\n",
       "        text-align: right;\n",
       "    }\n",
       "</style>\n",
       "<table border=\"1\" class=\"dataframe\">\n",
       "  <thead>\n",
       "    <tr style=\"text-align: right;\">\n",
       "      <th></th>\n",
       "      <th>user_id</th>\n",
       "      <th>tweet_id</th>\n",
       "      <th>time_created</th>\n",
       "      <th>reduced_text</th>\n",
       "      <th>full_text</th>\n",
       "      <th>country</th>\n",
       "      <th>region</th>\n",
       "    </tr>\n",
       "  </thead>\n",
       "  <tbody>\n",
       "    <tr>\n",
       "      <td>0</td>\n",
       "      <td>770073794056712193</td>\n",
       "      <td>1360740529286356993</td>\n",
       "      <td>Sat Feb 13 23:59:58 +0000 2021</td>\n",
       "      <td>RT @coveygils: @netflix @lanacondor EXACTLY ht...</td>\n",
       "      <td>RT @coveygils: @netflix @lanacondor EXACTLY ht...</td>\n",
       "      <td>None</td>\n",
       "      <td>None</td>\n",
       "    </tr>\n",
       "    <tr>\n",
       "      <td>1</td>\n",
       "      <td>101346144</td>\n",
       "      <td>1360740528472674309</td>\n",
       "      <td>Sat Feb 13 23:59:57 +0000 2021</td>\n",
       "      <td>RT @MichelleObama: Here's the trailer for #Waf...</td>\n",
       "      <td>RT @MichelleObama: Here's the trailer for #Waf...</td>\n",
       "      <td>None</td>\n",
       "      <td>None</td>\n",
       "    </tr>\n",
       "  </tbody>\n",
       "</table>\n",
       "</div>"
      ],
      "text/plain": [
       "              user_id             tweet_id                    time_created  \\\n",
       "0  770073794056712193  1360740529286356993  Sat Feb 13 23:59:58 +0000 2021   \n",
       "1           101346144  1360740528472674309  Sat Feb 13 23:59:57 +0000 2021   \n",
       "\n",
       "                                        reduced_text  \\\n",
       "0  RT @coveygils: @netflix @lanacondor EXACTLY ht...   \n",
       "1  RT @MichelleObama: Here's the trailer for #Waf...   \n",
       "\n",
       "                                           full_text country region  \n",
       "0  RT @coveygils: @netflix @lanacondor EXACTLY ht...    None   None  \n",
       "1  RT @MichelleObama: Here's the trailer for #Waf...    None   None  "
      ]
     },
     "execution_count": 8,
     "metadata": {},
     "output_type": "execute_result"
    }
   ],
   "source": [
    "sample_df.head(2)"
   ]
  },
  {
   "cell_type": "markdown",
   "metadata": {},
   "source": [
    "### Delete table"
   ]
  },
  {
   "cell_type": "code",
   "execution_count": 9,
   "metadata": {},
   "outputs": [],
   "source": [
    "## start sqlite in terminal\n",
    "## navigate to the correct db\n",
    "## type in the terminal: drop table <table_name>"
   ]
  }
 ],
 "metadata": {
  "kernelspec": {
   "display_name": "Python 3",
   "language": "python",
   "name": "python3"
  },
  "language_info": {
   "codemirror_mode": {
    "name": "ipython",
    "version": 3
   },
   "file_extension": ".py",
   "mimetype": "text/x-python",
   "name": "python",
   "nbconvert_exporter": "python",
   "pygments_lexer": "ipython3",
   "version": "3.7.4"
  }
 },
 "nbformat": 4,
 "nbformat_minor": 2
}
