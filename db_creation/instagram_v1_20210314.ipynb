{
 "cells": [
  {
   "cell_type": "markdown",
   "metadata": {},
   "source": [
    " <font color='blue'> Date: 20210314\n",
    "\n",
    " <font color='blue'> POC: Siyu Liu\n",
    "\n",
    " <font color='blue'>Updates:\n",
    "\n",
    "* added netflix, disney+, hulu, hbomax, platform info scripted data to db.\n",
    "* did not include twitter as the schema is still subject to change.\n",
    "\n"
   ]
  },
  {
   "cell_type": "markdown",
   "metadata": {},
   "source": [
    "## Instructions\n",
    "#### Install sqlite\n",
    "download and install the sqlite from https://www.sqlite.org/download.html\n",
    "\n",
    "or if you are using conda env run the command: conda install -c anaconda sqlite\n",
    "\n",
    "#### Note:\n",
    "##### db naming convention:\n",
    "##### project_s +  summary + v_version + timestamp\n",
    "    \n",
    "\n",
    "e.g.\n",
    "'project_s_sample_v0.0_20210221'"
   ]
  },
  {
   "cell_type": "code",
   "execution_count": 1,
   "metadata": {},
   "outputs": [],
   "source": [
    "import pandas as pd\n",
    "import sqlite3\n",
    "from pathlib import Path\n",
    "import os\n",
    "\n",
    "import sys\n",
    "sys.path.insert(1,'../utils/')\n",
    "from db_utils import *"
   ]
  },
  {
   "cell_type": "code",
   "execution_count": 2,
   "metadata": {},
   "outputs": [
    {
     "name": "stdout",
     "output_type": "stream",
     "text": [
      "db_utils.py  dtypes_utils.py  __pycache__\r\n"
     ]
    }
   ],
   "source": [
    "!ls ../utils/"
   ]
  },
  {
   "cell_type": "markdown",
   "metadata": {},
   "source": [
    "# Config"
   ]
  },
  {
   "cell_type": "code",
   "execution_count": 3,
   "metadata": {},
   "outputs": [],
   "source": [
    "db_name = 'project_s_instagram_v1_20210314.db'\n",
    "conn = sqlite3.connect(db_name)\n",
    "c = conn.cursor()"
   ]
  },
  {
   "cell_type": "markdown",
   "metadata": {},
   "source": [
    "# Platform I. Netflix"
   ]
  },
  {
   "cell_type": "markdown",
   "metadata": {},
   "source": [
    "##  <font color='blue'> Step 1 data loading"
   ]
  },
  {
   "cell_type": "code",
   "execution_count": 4,
   "metadata": {},
   "outputs": [
    {
     "name": "stdout",
     "output_type": "stream",
     "text": [
      "loading data......\n",
      "netflix_post_general_tracking_info.csv\n",
      "netflix_post_general_static_info.csv\n"
     ]
    }
   ],
   "source": [
    "netflix_address = '../data/instagram_netflix'\n",
    "\n",
    "netflix_static, netflix_tracking = load_data(netflix_address)"
   ]
  },
  {
   "cell_type": "markdown",
   "metadata": {},
   "source": [
    "##  <font color='blue'> Step 2 write to db"
   ]
  },
  {
   "cell_type": "code",
   "execution_count": 5,
   "metadata": {},
   "outputs": [],
   "source": [
    "## Create DB\n",
    "\n",
    "table_name_netflix_static = 'instagram_netflix_static'\n",
    "Path(db_name).touch()\n",
    "\n",
    "table_name_netflix_tracking = 'instagram_netflix_tracking'\n",
    "Path(db_name).touch()"
   ]
  },
  {
   "cell_type": "code",
   "execution_count": 6,
   "metadata": {},
   "outputs": [],
   "source": [
    "### write static data\n",
    "\n",
    "# initialize schema\n",
    "c.execute('''CREATE TABLE IF NOT EXISTS {table_name}\n",
    "                         (fetch_date timestamp,\n",
    "                          hrefs varchar,\n",
    "                          short_codes varchar,\n",
    "                          post_types varchar,\n",
    "                          captions varchar,\n",
    "                          accessibility_caption varchar,\n",
    "                          id int,\n",
    "                          timestamp int,\n",
    "                          upload_date timestamp,\n",
    "                          upload_date_text varchar\n",
    "                          )'''.format(table_name = table_name_netflix_static))\n",
    "\n",
    "# write csv to table\n",
    "netflix_static.to_sql(table_name_netflix_static, \n",
    "                      conn, \n",
    "                      if_exists='append',\n",
    "                      index=False)"
   ]
  },
  {
   "cell_type": "code",
   "execution_count": 7,
   "metadata": {},
   "outputs": [],
   "source": [
    "### write tracking data\n",
    "\n",
    "# initialize schema\n",
    "c.execute('''CREATE TABLE IF NOT EXISTS {table_name}\n",
    "                         (fetch_date timestamp,\n",
    "                          short_codes varchar,\n",
    "                          number_of_likes int,\n",
    "                          number_of_video_views int,\n",
    "                          number_of_comments int\n",
    "                          )'''.format(table_name = table_name_netflix_tracking))\n",
    "\n",
    "# write csv to table\n",
    "netflix_tracking.to_sql(table_name_netflix_tracking, \n",
    "                      conn, \n",
    "                      if_exists='append',\n",
    "                      index=False)"
   ]
  },
  {
   "cell_type": "markdown",
   "metadata": {},
   "source": [
    "##  <font color='blue'> Step 3 Usage\n",
    "\n",
    "### Note: To standardize the data format checkout the demo in ~/demo/ folder"
   ]
  },
  {
   "cell_type": "code",
   "execution_count": 8,
   "metadata": {},
   "outputs": [
    {
     "data": {
      "text/html": [
       "<div>\n",
       "<style scoped>\n",
       "    .dataframe tbody tr th:only-of-type {\n",
       "        vertical-align: middle;\n",
       "    }\n",
       "\n",
       "    .dataframe tbody tr th {\n",
       "        vertical-align: top;\n",
       "    }\n",
       "\n",
       "    .dataframe thead th {\n",
       "        text-align: right;\n",
       "    }\n",
       "</style>\n",
       "<table border=\"1\" class=\"dataframe\">\n",
       "  <thead>\n",
       "    <tr style=\"text-align: right;\">\n",
       "      <th></th>\n",
       "      <th>fetch_date</th>\n",
       "      <th>short_codes</th>\n",
       "      <th>number_of_likes</th>\n",
       "      <th>number_of_video_views</th>\n",
       "      <th>number_of_comments</th>\n",
       "      <th>fetch_date</th>\n",
       "      <th>hrefs</th>\n",
       "      <th>short_codes</th>\n",
       "      <th>post_types</th>\n",
       "      <th>captions</th>\n",
       "      <th>accessibility_caption</th>\n",
       "      <th>id</th>\n",
       "      <th>timestamp</th>\n",
       "      <th>upload_date</th>\n",
       "      <th>upload_date_text</th>\n",
       "    </tr>\n",
       "  </thead>\n",
       "  <tbody>\n",
       "    <tr>\n",
       "      <th>0</th>\n",
       "      <td>03/06/21</td>\n",
       "      <td>CL4c2Fjl0tq</td>\n",
       "      <td>768179</td>\n",
       "      <td>NaN</td>\n",
       "      <td>8548</td>\n",
       "      <td>03/06/21</td>\n",
       "      <td>https://www.instagram.com/p/CL4c2Fjl0tq/</td>\n",
       "      <td>CL4c2Fjl0tq</td>\n",
       "      <td>Image</td>\n",
       "      <td>Photo by Netflix US on March 01, 2021. May be ...</td>\n",
       "      <td>Photo by Netflix US on March 01, 2021. May be ...</td>\n",
       "      <td>2519890853633674090</td>\n",
       "      <td>1614614420</td>\n",
       "      <td>2021-03-01T16:00:20.000Z</td>\n",
       "      <td>Mar 1, 2021</td>\n",
       "    </tr>\n",
       "    <tr>\n",
       "      <th>1</th>\n",
       "      <td>03/06/21</td>\n",
       "      <td>CL4c2Fjl0tq</td>\n",
       "      <td>768179</td>\n",
       "      <td>NaN</td>\n",
       "      <td>8548</td>\n",
       "      <td>03/06/21</td>\n",
       "      <td>https://www.instagram.com/p/CL4c2Fjl0tq/</td>\n",
       "      <td>CL4c2Fjl0tq</td>\n",
       "      <td>Image</td>\n",
       "      <td>Photo by Netflix US on March 01, 2021. May be ...</td>\n",
       "      <td>Photo by Netflix US on March 01, 2021. May be ...</td>\n",
       "      <td>2519890853633674090</td>\n",
       "      <td>1614614420</td>\n",
       "      <td>2021-03-01T16:00:20.000Z</td>\n",
       "      <td>Mar 1, 2021</td>\n",
       "    </tr>\n",
       "  </tbody>\n",
       "</table>\n",
       "</div>"
      ],
      "text/plain": [
       "  fetch_date  short_codes  number_of_likes  number_of_video_views  \\\n",
       "0   03/06/21  CL4c2Fjl0tq           768179                    NaN   \n",
       "1   03/06/21  CL4c2Fjl0tq           768179                    NaN   \n",
       "\n",
       "   number_of_comments fetch_date                                     hrefs  \\\n",
       "0                8548   03/06/21  https://www.instagram.com/p/CL4c2Fjl0tq/   \n",
       "1                8548   03/06/21  https://www.instagram.com/p/CL4c2Fjl0tq/   \n",
       "\n",
       "   short_codes post_types                                           captions  \\\n",
       "0  CL4c2Fjl0tq      Image  Photo by Netflix US on March 01, 2021. May be ...   \n",
       "1  CL4c2Fjl0tq      Image  Photo by Netflix US on March 01, 2021. May be ...   \n",
       "\n",
       "                               accessibility_caption                   id  \\\n",
       "0  Photo by Netflix US on March 01, 2021. May be ...  2519890853633674090   \n",
       "1  Photo by Netflix US on March 01, 2021. May be ...  2519890853633674090   \n",
       "\n",
       "    timestamp               upload_date upload_date_text  \n",
       "0  1614614420  2021-03-01T16:00:20.000Z      Mar 1, 2021  \n",
       "1  1614614420  2021-03-01T16:00:20.000Z      Mar 1, 2021  "
      ]
     },
     "execution_count": 8,
     "metadata": {},
     "output_type": "execute_result"
    }
   ],
   "source": [
    "### querying from the db\n",
    "q = \"\"\"\n",
    "    SELECT * FROM instagram_netflix_tracking a\n",
    "    JOIN instagram_netflix_static b\n",
    "    ON a.short_codes = b.short_codes\n",
    "    \"\"\"\n",
    "netflix = pd.read_sql(q, conn)\n",
    "netflix.head(2)"
   ]
  },
  {
   "cell_type": "markdown",
   "metadata": {},
   "source": [
    "# Platform II. Disney +"
   ]
  },
  {
   "cell_type": "code",
   "execution_count": 9,
   "metadata": {},
   "outputs": [
    {
     "name": "stdout",
     "output_type": "stream",
     "text": [
      "loading data......\n",
      "disney+_post_general_static_info.csv\n",
      "disney+_post_general_tracking_info.csv\n"
     ]
    }
   ],
   "source": [
    "disney_address = '../data/instagram_disney'\n",
    "\n",
    "disney_static, disney_tracking = load_data(disney_address)"
   ]
  },
  {
   "cell_type": "code",
   "execution_count": 10,
   "metadata": {},
   "outputs": [],
   "source": [
    "## Create table\n",
    "\n",
    "table_name_disney_static = 'instagram_disney_static'\n",
    "Path(db_name).touch()\n",
    "\n",
    "table_name_disney_tracking = 'instagram_disney_tracking'\n",
    "Path(db_name).touch()\n",
    "\n",
    "### write static data\n",
    "\n",
    "# initialize schema\n",
    "c.execute('''CREATE TABLE IF NOT EXISTS {table_name}\n",
    "                         (fetch_date timestamp,\n",
    "                          hrefs varchar,\n",
    "                          short_codes varchar,\n",
    "                          post_types varchar,\n",
    "                          captions varchar,\n",
    "                          accessibility_caption varchar,\n",
    "                          id int,\n",
    "                          timestamp int,\n",
    "                          upload_date timestamp,\n",
    "                          upload_date_text varchar\n",
    "                          )'''.format(table_name = table_name_disney_static))\n",
    "\n",
    "# write csv to table\n",
    "disney_static.to_sql(table_name_disney_static, \n",
    "                      conn, \n",
    "                      if_exists='append',\n",
    "                      index=False)\n",
    "\n",
    "### write tracking data\n",
    "\n",
    "# initialize schema\n",
    "c.execute('''CREATE TABLE IF NOT EXISTS {table_name}\n",
    "                         (fetch_date timestamp,\n",
    "                          short_codes varchar,\n",
    "                          number_of_likes int,\n",
    "                          number_of_video_views int,\n",
    "                          number_of_comments int\n",
    "                          )'''.format(table_name = table_name_disney_tracking))\n",
    "\n",
    "# write csv to table\n",
    "disney_tracking.to_sql(table_name_disney_tracking, \n",
    "                      conn, \n",
    "                      if_exists='append',\n",
    "                      index=False)"
   ]
  },
  {
   "cell_type": "code",
   "execution_count": 11,
   "metadata": {},
   "outputs": [
    {
     "data": {
      "text/html": [
       "<div>\n",
       "<style scoped>\n",
       "    .dataframe tbody tr th:only-of-type {\n",
       "        vertical-align: middle;\n",
       "    }\n",
       "\n",
       "    .dataframe tbody tr th {\n",
       "        vertical-align: top;\n",
       "    }\n",
       "\n",
       "    .dataframe thead th {\n",
       "        text-align: right;\n",
       "    }\n",
       "</style>\n",
       "<table border=\"1\" class=\"dataframe\">\n",
       "  <thead>\n",
       "    <tr style=\"text-align: right;\">\n",
       "      <th></th>\n",
       "      <th>fetch_date</th>\n",
       "      <th>short_codes</th>\n",
       "      <th>number_of_likes</th>\n",
       "      <th>number_of_video_views</th>\n",
       "      <th>number_of_comments</th>\n",
       "      <th>fetch_date</th>\n",
       "      <th>hrefs</th>\n",
       "      <th>short_codes</th>\n",
       "      <th>post_types</th>\n",
       "      <th>captions</th>\n",
       "      <th>accessibility_caption</th>\n",
       "      <th>id</th>\n",
       "      <th>timestamp</th>\n",
       "      <th>upload_date</th>\n",
       "      <th>upload_date_text</th>\n",
       "    </tr>\n",
       "  </thead>\n",
       "  <tbody>\n",
       "    <tr>\n",
       "      <th>0</th>\n",
       "      <td>03/11/21</td>\n",
       "      <td>CMLw1gys2bz</td>\n",
       "      <td>52399</td>\n",
       "      <td>160923.0</td>\n",
       "      <td>162</td>\n",
       "      <td>03/11/21</td>\n",
       "      <td>https://www.instagram.com/p/CMLw1gys2bz/</td>\n",
       "      <td>CMLw1gys2bz</td>\n",
       "      <td>Video</td>\n",
       "      <td>Go back to the beginning and experience their ...</td>\n",
       "      <td>None</td>\n",
       "      <td>2525326799646451443</td>\n",
       "      <td>1615262459</td>\n",
       "      <td>2021-03-09T04:00:59.000Z</td>\n",
       "      <td>Mar 8, 2021</td>\n",
       "    </tr>\n",
       "    <tr>\n",
       "      <th>1</th>\n",
       "      <td>03/11/21</td>\n",
       "      <td>CMLw1gys2bz</td>\n",
       "      <td>52399</td>\n",
       "      <td>160923.0</td>\n",
       "      <td>162</td>\n",
       "      <td>03/11/21</td>\n",
       "      <td>https://www.instagram.com/p/CMLw1gys2bz/</td>\n",
       "      <td>CMLw1gys2bz</td>\n",
       "      <td>Video</td>\n",
       "      <td>Go back to the beginning and experience their ...</td>\n",
       "      <td>None</td>\n",
       "      <td>2525326799646451443</td>\n",
       "      <td>1615262459</td>\n",
       "      <td>2021-03-09T04:00:59.000Z</td>\n",
       "      <td>Mar 8, 2021</td>\n",
       "    </tr>\n",
       "  </tbody>\n",
       "</table>\n",
       "</div>"
      ],
      "text/plain": [
       "  fetch_date  short_codes  number_of_likes  number_of_video_views  \\\n",
       "0   03/11/21  CMLw1gys2bz            52399               160923.0   \n",
       "1   03/11/21  CMLw1gys2bz            52399               160923.0   \n",
       "\n",
       "   number_of_comments fetch_date                                     hrefs  \\\n",
       "0                 162   03/11/21  https://www.instagram.com/p/CMLw1gys2bz/   \n",
       "1                 162   03/11/21  https://www.instagram.com/p/CMLw1gys2bz/   \n",
       "\n",
       "   short_codes post_types                                           captions  \\\n",
       "0  CMLw1gys2bz      Video  Go back to the beginning and experience their ...   \n",
       "1  CMLw1gys2bz      Video  Go back to the beginning and experience their ...   \n",
       "\n",
       "  accessibility_caption                   id   timestamp  \\\n",
       "0                  None  2525326799646451443  1615262459   \n",
       "1                  None  2525326799646451443  1615262459   \n",
       "\n",
       "                upload_date upload_date_text  \n",
       "0  2021-03-09T04:00:59.000Z      Mar 8, 2021  \n",
       "1  2021-03-09T04:00:59.000Z      Mar 8, 2021  "
      ]
     },
     "execution_count": 11,
     "metadata": {},
     "output_type": "execute_result"
    }
   ],
   "source": [
    "### querying from the db\n",
    "q = \"\"\"\n",
    "    SELECT * FROM instagram_disney_tracking a\n",
    "    JOIN instagram_disney_static b\n",
    "    ON a.short_codes = b.short_codes\n",
    "    \"\"\"\n",
    "disney = pd.read_sql(q, conn)\n",
    "disney.head(2)"
   ]
  },
  {
   "cell_type": "markdown",
   "metadata": {},
   "source": [
    "# Platform III. Hulu"
   ]
  },
  {
   "cell_type": "code",
   "execution_count": 12,
   "metadata": {},
   "outputs": [
    {
     "name": "stdout",
     "output_type": "stream",
     "text": [
      "loading data......\n",
      "hulu_post_general_static_info.csv\n",
      "hulu_post_general_tracking_info.csv\n"
     ]
    }
   ],
   "source": [
    "hulu_address = '../data/instagram_hulu'\n",
    "\n",
    "hulu_static, hulu_tracking = load_data(hulu_address)"
   ]
  },
  {
   "cell_type": "code",
   "execution_count": 13,
   "metadata": {},
   "outputs": [],
   "source": [
    "## Create table\n",
    "\n",
    "table_name_hulu_static = 'instagram_hulu_static'\n",
    "Path(db_name).touch()\n",
    "\n",
    "table_name_hulu_tracking = 'instagram_hulu_tracking'\n",
    "Path(db_name).touch()\n",
    "\n",
    "### write static data\n",
    "\n",
    "# initialize schema\n",
    "c.execute('''CREATE TABLE IF NOT EXISTS {table_name}\n",
    "                         (fetch_date timestamp,\n",
    "                          hrefs varchar,\n",
    "                          short_codes varchar,\n",
    "                          post_types varchar,\n",
    "                          captions varchar,\n",
    "                          accessibility_caption varchar,\n",
    "                          id int,\n",
    "                          timestamp int,\n",
    "                          upload_date timestamp,\n",
    "                          upload_date_text varchar\n",
    "                          )'''.format(table_name = table_name_hulu_static))\n",
    "\n",
    "# write csv to table\n",
    "hulu_static.to_sql(table_name_hulu_static, \n",
    "                      conn, \n",
    "                      if_exists='append',\n",
    "                      index=False)\n",
    "\n",
    "### write tracking data\n",
    "\n",
    "# initialize schema\n",
    "c.execute('''CREATE TABLE IF NOT EXISTS {table_name}\n",
    "                         (fetch_date timestamp,\n",
    "                          short_codes varchar,\n",
    "                          number_of_likes int,\n",
    "                          number_of_video_views int,\n",
    "                          number_of_comments int\n",
    "                          )'''.format(table_name = table_name_hulu_tracking))\n",
    "\n",
    "# write csv to table\n",
    "hulu_tracking.to_sql(table_name_hulu_tracking, \n",
    "                      conn, \n",
    "                      if_exists='append',\n",
    "                      index=False)"
   ]
  },
  {
   "cell_type": "code",
   "execution_count": 14,
   "metadata": {
    "scrolled": true
   },
   "outputs": [
    {
     "data": {
      "text/html": [
       "<div>\n",
       "<style scoped>\n",
       "    .dataframe tbody tr th:only-of-type {\n",
       "        vertical-align: middle;\n",
       "    }\n",
       "\n",
       "    .dataframe tbody tr th {\n",
       "        vertical-align: top;\n",
       "    }\n",
       "\n",
       "    .dataframe thead th {\n",
       "        text-align: right;\n",
       "    }\n",
       "</style>\n",
       "<table border=\"1\" class=\"dataframe\">\n",
       "  <thead>\n",
       "    <tr style=\"text-align: right;\">\n",
       "      <th></th>\n",
       "      <th>fetch_date</th>\n",
       "      <th>short_codes</th>\n",
       "      <th>number_of_likes</th>\n",
       "      <th>number_of_video_views</th>\n",
       "      <th>number_of_comments</th>\n",
       "      <th>fetch_date</th>\n",
       "      <th>hrefs</th>\n",
       "      <th>short_codes</th>\n",
       "      <th>post_types</th>\n",
       "      <th>captions</th>\n",
       "      <th>accessibility_caption</th>\n",
       "      <th>id</th>\n",
       "      <th>timestamp</th>\n",
       "      <th>upload_date</th>\n",
       "      <th>upload_date_text</th>\n",
       "    </tr>\n",
       "  </thead>\n",
       "  <tbody>\n",
       "    <tr>\n",
       "      <th>0</th>\n",
       "      <td>03/11/21</td>\n",
       "      <td>CMP44ARBOnZ</td>\n",
       "      <td>1137</td>\n",
       "      <td>NaN</td>\n",
       "      <td>12</td>\n",
       "      <td>03/11/21</td>\n",
       "      <td>https://www.instagram.com/p/CMP44ARBOnZ/</td>\n",
       "      <td>CMP44ARBOnZ</td>\n",
       "      <td>Carousel</td>\n",
       "      <td>Photo shared by HuluStreamKween90 on March 10,...</td>\n",
       "      <td>Photo shared by HuluStreamKween90 on March 10,...</td>\n",
       "      <td>2526488055158991321</td>\n",
       "      <td>1615400867</td>\n",
       "      <td>2021-03-10T18:27:47.000Z</td>\n",
       "      <td>Mar 10, 2021</td>\n",
       "    </tr>\n",
       "    <tr>\n",
       "      <th>1</th>\n",
       "      <td>03/11/21</td>\n",
       "      <td>CMP44ARBOnZ</td>\n",
       "      <td>1137</td>\n",
       "      <td>NaN</td>\n",
       "      <td>12</td>\n",
       "      <td>03/11/21</td>\n",
       "      <td>https://www.instagram.com/p/CMP44ARBOnZ/</td>\n",
       "      <td>CMP44ARBOnZ</td>\n",
       "      <td>Carousel</td>\n",
       "      <td>Photo shared by HuluStreamKween90 on March 10,...</td>\n",
       "      <td>Photo shared by HuluStreamKween90 on March 10,...</td>\n",
       "      <td>2526488055158991321</td>\n",
       "      <td>1615400867</td>\n",
       "      <td>2021-03-10T18:27:47.000Z</td>\n",
       "      <td>Mar 10, 2021</td>\n",
       "    </tr>\n",
       "  </tbody>\n",
       "</table>\n",
       "</div>"
      ],
      "text/plain": [
       "  fetch_date  short_codes  number_of_likes  number_of_video_views  \\\n",
       "0   03/11/21  CMP44ARBOnZ             1137                    NaN   \n",
       "1   03/11/21  CMP44ARBOnZ             1137                    NaN   \n",
       "\n",
       "   number_of_comments fetch_date                                     hrefs  \\\n",
       "0                  12   03/11/21  https://www.instagram.com/p/CMP44ARBOnZ/   \n",
       "1                  12   03/11/21  https://www.instagram.com/p/CMP44ARBOnZ/   \n",
       "\n",
       "   short_codes post_types                                           captions  \\\n",
       "0  CMP44ARBOnZ   Carousel  Photo shared by HuluStreamKween90 on March 10,...   \n",
       "1  CMP44ARBOnZ   Carousel  Photo shared by HuluStreamKween90 on March 10,...   \n",
       "\n",
       "                               accessibility_caption                   id  \\\n",
       "0  Photo shared by HuluStreamKween90 on March 10,...  2526488055158991321   \n",
       "1  Photo shared by HuluStreamKween90 on March 10,...  2526488055158991321   \n",
       "\n",
       "    timestamp               upload_date upload_date_text  \n",
       "0  1615400867  2021-03-10T18:27:47.000Z     Mar 10, 2021  \n",
       "1  1615400867  2021-03-10T18:27:47.000Z     Mar 10, 2021  "
      ]
     },
     "execution_count": 14,
     "metadata": {},
     "output_type": "execute_result"
    }
   ],
   "source": [
    "### querying from the db\n",
    "q = \"\"\"\n",
    "    SELECT * FROM instagram_hulu_tracking a\n",
    "    JOIN instagram_hulu_static b\n",
    "    ON a.short_codes = b.short_codes\n",
    "    \"\"\"\n",
    "hulu = pd.read_sql(q, conn)\n",
    "hulu.head(2)"
   ]
  },
  {
   "cell_type": "markdown",
   "metadata": {},
   "source": [
    "# Platform IV. hbomax"
   ]
  },
  {
   "cell_type": "code",
   "execution_count": 15,
   "metadata": {},
   "outputs": [
    {
     "name": "stdout",
     "output_type": "stream",
     "text": [
      "loading data......\n",
      "hbomax_post_general_tracking_info.csv\n",
      "hbomax_post_general_static_info.csv\n"
     ]
    }
   ],
   "source": [
    "hbomax_address = '../data/instagram_hbomax'\n",
    "\n",
    "hbomax_static, hbomax_tracking = load_data(hbomax_address)"
   ]
  },
  {
   "cell_type": "code",
   "execution_count": 16,
   "metadata": {},
   "outputs": [],
   "source": [
    "## Create table\n",
    "\n",
    "table_name_hbomax_static = 'instagram_hbomax_static'\n",
    "Path(db_name).touch()\n",
    "\n",
    "table_name_hbomax_tracking = 'instagram_hbomax_tracking'\n",
    "Path(db_name).touch()\n",
    "\n",
    "### write static data\n",
    "\n",
    "# initialize schema\n",
    "c.execute('''CREATE TABLE IF NOT EXISTS {table_name}\n",
    "                         (fetch_date timestamp,\n",
    "                          hrefs varchar,\n",
    "                          short_codes varchar,\n",
    "                          post_types varchar,\n",
    "                          captions varchar,\n",
    "                          accessibility_caption varchar,\n",
    "                          id int,\n",
    "                          timestamp int,\n",
    "                          upload_date timestamp,\n",
    "                          upload_date_text varchar\n",
    "                          )'''.format(table_name = table_name_hbomax_static))\n",
    "\n",
    "# write csv to table\n",
    "hbomax_static.to_sql(table_name_hbomax_static, \n",
    "                      conn, \n",
    "                      if_exists='append',\n",
    "                      index=False)\n",
    "\n",
    "### write tracking data\n",
    "\n",
    "# initialize schema\n",
    "c.execute('''CREATE TABLE IF NOT EXISTS {table_name}\n",
    "                         (fetch_date timestamp,\n",
    "                          short_codes varchar,\n",
    "                          number_of_likes int,\n",
    "                          number_of_video_views int,\n",
    "                          number_of_comments int\n",
    "                          )'''.format(table_name = table_name_hbomax_tracking))\n",
    "\n",
    "# write csv to table\n",
    "hbomax_tracking.to_sql(table_name_hbomax_tracking, \n",
    "                      conn, \n",
    "                      if_exists='append',\n",
    "                      index=False)"
   ]
  },
  {
   "cell_type": "code",
   "execution_count": 17,
   "metadata": {
    "scrolled": true
   },
   "outputs": [
    {
     "data": {
      "text/html": [
       "<div>\n",
       "<style scoped>\n",
       "    .dataframe tbody tr th:only-of-type {\n",
       "        vertical-align: middle;\n",
       "    }\n",
       "\n",
       "    .dataframe tbody tr th {\n",
       "        vertical-align: top;\n",
       "    }\n",
       "\n",
       "    .dataframe thead th {\n",
       "        text-align: right;\n",
       "    }\n",
       "</style>\n",
       "<table border=\"1\" class=\"dataframe\">\n",
       "  <thead>\n",
       "    <tr style=\"text-align: right;\">\n",
       "      <th></th>\n",
       "      <th>fetch_date</th>\n",
       "      <th>short_codes</th>\n",
       "      <th>number_of_likes</th>\n",
       "      <th>number_of_video_views</th>\n",
       "      <th>number_of_comments</th>\n",
       "      <th>fetch_date</th>\n",
       "      <th>hrefs</th>\n",
       "      <th>short_codes</th>\n",
       "      <th>post_types</th>\n",
       "      <th>captions</th>\n",
       "      <th>accessibility_caption</th>\n",
       "      <th>id</th>\n",
       "      <th>timestamp</th>\n",
       "      <th>upload_date</th>\n",
       "      <th>upload_date_text</th>\n",
       "    </tr>\n",
       "  </thead>\n",
       "  <tbody>\n",
       "    <tr>\n",
       "      <th>0</th>\n",
       "      <td>03/11/21</td>\n",
       "      <td>CMK2rTdhOGy</td>\n",
       "      <td>4478</td>\n",
       "      <td>NaN</td>\n",
       "      <td>64</td>\n",
       "      <td>03/11/21</td>\n",
       "      <td>https://www.instagram.com/p/CMK2rTdhOGy/</td>\n",
       "      <td>CMK2rTdhOGy</td>\n",
       "      <td>Carousel</td>\n",
       "      <td>Photo by HBO Max on March 08, 2021. May be a c...</td>\n",
       "      <td>Photo by HBO Max on March 08, 2021. May be a c...</td>\n",
       "      <td>2525071011440026034</td>\n",
       "      <td>1615231943</td>\n",
       "      <td>2021-03-08T19:32:23.000Z</td>\n",
       "      <td>Mar 8, 2021</td>\n",
       "    </tr>\n",
       "    <tr>\n",
       "      <th>1</th>\n",
       "      <td>03/11/21</td>\n",
       "      <td>CMK2rTdhOGy</td>\n",
       "      <td>4478</td>\n",
       "      <td>NaN</td>\n",
       "      <td>64</td>\n",
       "      <td>03/11/21</td>\n",
       "      <td>https://www.instagram.com/p/CMK2rTdhOGy/</td>\n",
       "      <td>CMK2rTdhOGy</td>\n",
       "      <td>Carousel</td>\n",
       "      <td>Photo by HBO Max on March 08, 2021. May be a c...</td>\n",
       "      <td>Photo by HBO Max on March 08, 2021. May be a c...</td>\n",
       "      <td>2525071011440026034</td>\n",
       "      <td>1615231943</td>\n",
       "      <td>2021-03-08T19:32:23.000Z</td>\n",
       "      <td>Mar 8, 2021</td>\n",
       "    </tr>\n",
       "  </tbody>\n",
       "</table>\n",
       "</div>"
      ],
      "text/plain": [
       "  fetch_date  short_codes  number_of_likes  number_of_video_views  \\\n",
       "0   03/11/21  CMK2rTdhOGy             4478                    NaN   \n",
       "1   03/11/21  CMK2rTdhOGy             4478                    NaN   \n",
       "\n",
       "   number_of_comments fetch_date                                     hrefs  \\\n",
       "0                  64   03/11/21  https://www.instagram.com/p/CMK2rTdhOGy/   \n",
       "1                  64   03/11/21  https://www.instagram.com/p/CMK2rTdhOGy/   \n",
       "\n",
       "   short_codes post_types                                           captions  \\\n",
       "0  CMK2rTdhOGy   Carousel  Photo by HBO Max on March 08, 2021. May be a c...   \n",
       "1  CMK2rTdhOGy   Carousel  Photo by HBO Max on March 08, 2021. May be a c...   \n",
       "\n",
       "                               accessibility_caption                   id  \\\n",
       "0  Photo by HBO Max on March 08, 2021. May be a c...  2525071011440026034   \n",
       "1  Photo by HBO Max on March 08, 2021. May be a c...  2525071011440026034   \n",
       "\n",
       "    timestamp               upload_date upload_date_text  \n",
       "0  1615231943  2021-03-08T19:32:23.000Z      Mar 8, 2021  \n",
       "1  1615231943  2021-03-08T19:32:23.000Z      Mar 8, 2021  "
      ]
     },
     "execution_count": 17,
     "metadata": {},
     "output_type": "execute_result"
    }
   ],
   "source": [
    "### querying from the db\n",
    "q = \"\"\"\n",
    "    SELECT * FROM instagram_hbomax_tracking a\n",
    "    JOIN instagram_hbomax_static b\n",
    "    ON a.short_codes = b.short_codes\n",
    "    \"\"\"\n",
    "hbomax = pd.read_sql(q, conn)\n",
    "hbomax.head(2)"
   ]
  },
  {
   "cell_type": "markdown",
   "metadata": {},
   "source": [
    "# Platform Page Info"
   ]
  },
  {
   "cell_type": "code",
   "execution_count": 18,
   "metadata": {},
   "outputs": [
    {
     "name": "stdout",
     "output_type": "stream",
     "text": [
      "loading data......\n",
      "general_info_among_platforms.csv\n"
     ]
    }
   ],
   "source": [
    "platform_info_address = '../data/instagram_platform_page_info'\n",
    "\n",
    "platform_info = load_data(platform_info_address, kind = 'general')"
   ]
  },
  {
   "cell_type": "code",
   "execution_count": 19,
   "metadata": {},
   "outputs": [],
   "source": [
    "### create table\n",
    "table_name_platform_info = 'instagram_platform_page_info'\n",
    "Path(db_name).touch()\n",
    "\n",
    "\n",
    "# initialize schema\n",
    "c.execute('''CREATE TABLE IF NOT EXISTS {table_name}\n",
    "                         (fetch_date timestamp,\n",
    "                          streaming_platform varchar,\n",
    "                          hrefs varchar,\n",
    "                          page_ids int,\n",
    "                          page_bios varchar,\n",
    "                          follower_count int,\n",
    "                          following_count int,\n",
    "                          post_number int\n",
    "                          )'''.format(table_name = table_name_platform_info))\n",
    "\n",
    "# write csv to table\n",
    "platform_info.to_sql(table_name_platform_info, \n",
    "                      conn, \n",
    "                      if_exists='append',\n",
    "                      index=False)"
   ]
  },
  {
   "cell_type": "code",
   "execution_count": 20,
   "metadata": {},
   "outputs": [
    {
     "data": {
      "text/html": [
       "<div>\n",
       "<style scoped>\n",
       "    .dataframe tbody tr th:only-of-type {\n",
       "        vertical-align: middle;\n",
       "    }\n",
       "\n",
       "    .dataframe tbody tr th {\n",
       "        vertical-align: top;\n",
       "    }\n",
       "\n",
       "    .dataframe thead th {\n",
       "        text-align: right;\n",
       "    }\n",
       "</style>\n",
       "<table border=\"1\" class=\"dataframe\">\n",
       "  <thead>\n",
       "    <tr style=\"text-align: right;\">\n",
       "      <th></th>\n",
       "      <th>fetch_date</th>\n",
       "      <th>streaming_platform</th>\n",
       "      <th>hrefs</th>\n",
       "      <th>page_ids</th>\n",
       "      <th>page_bios</th>\n",
       "      <th>follower_count</th>\n",
       "      <th>following_count</th>\n",
       "      <th>post_number</th>\n",
       "    </tr>\n",
       "  </thead>\n",
       "  <tbody>\n",
       "    <tr>\n",
       "      <th>0</th>\n",
       "      <td>03/09/21</td>\n",
       "      <td>netflix</td>\n",
       "      <td>https://www.instagram.com/netflix/</td>\n",
       "      <td>207587378</td>\n",
       "      <td>@strongblacklead every month is Black history ...</td>\n",
       "      <td>26577084</td>\n",
       "      <td>977</td>\n",
       "      <td>3613</td>\n",
       "    </tr>\n",
       "    <tr>\n",
       "      <th>1</th>\n",
       "      <td>03/09/21</td>\n",
       "      <td>disneyplus</td>\n",
       "      <td>https://www.instagram.com/disneyplus/</td>\n",
       "      <td>7522677467</td>\n",
       "      <td>#WomenBeyondLimits: Celebrate their inspiring ...</td>\n",
       "      <td>3933952</td>\n",
       "      <td>208</td>\n",
       "      <td>1220</td>\n",
       "    </tr>\n",
       "  </tbody>\n",
       "</table>\n",
       "</div>"
      ],
      "text/plain": [
       "  fetch_date streaming_platform                                  hrefs  \\\n",
       "0   03/09/21            netflix     https://www.instagram.com/netflix/   \n",
       "1   03/09/21         disneyplus  https://www.instagram.com/disneyplus/   \n",
       "\n",
       "     page_ids                                          page_bios  \\\n",
       "0   207587378  @strongblacklead every month is Black history ...   \n",
       "1  7522677467  #WomenBeyondLimits: Celebrate their inspiring ...   \n",
       "\n",
       "   follower_count  following_count  post_number  \n",
       "0        26577084              977         3613  \n",
       "1         3933952              208         1220  "
      ]
     },
     "execution_count": 20,
     "metadata": {},
     "output_type": "execute_result"
    }
   ],
   "source": [
    "### querying from the db\n",
    "q = \"\"\"\n",
    "    SELECT * FROM instagram_platform_page_info\n",
    "    \"\"\"\n",
    "platform = pd.read_sql(q, conn)\n",
    "platform.head(2)"
   ]
  }
 ],
 "metadata": {
  "kernelspec": {
   "display_name": "Python 3",
   "language": "python",
   "name": "python3"
  },
  "language_info": {
   "codemirror_mode": {
    "name": "ipython",
    "version": 3
   },
   "file_extension": ".py",
   "mimetype": "text/x-python",
   "name": "python",
   "nbconvert_exporter": "python",
   "pygments_lexer": "ipython3",
   "version": "3.6.8"
  }
 },
 "nbformat": 4,
 "nbformat_minor": 2
}
